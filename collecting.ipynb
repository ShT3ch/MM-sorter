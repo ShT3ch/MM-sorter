{
 "cells": [
  {
   "cell_type": "code",
   "execution_count": 1,
   "metadata": {
    "collapsed": true
   },
   "outputs": [],
   "source": [
    "import serial\n",
    "from collections import Counter\n",
    "import json"
   ]
  },
  {
   "cell_type": "markdown",
   "metadata": {},
   "source": [
    "# Step 1: Data collecting"
   ]
  },
  {
   "cell_type": "code",
   "execution_count": 2,
   "metadata": {},
   "outputs": [],
   "source": [
    "ser = serial.Serial('/dev/ttyACM0', baudrate=115200, )"
   ]
  },
  {
   "cell_type": "markdown",
   "metadata": {},
   "source": [
    "##### need to skip intro message"
   ]
  },
  {
   "cell_type": "code",
   "execution_count": 3,
   "metadata": {},
   "outputs": [
    {
     "name": "stdout",
     "output_type": "stream",
     "text": [
      "Started!\r\n",
      "\n"
     ]
    }
   ],
   "source": [
    "print ser.readline()"
   ]
  },
  {
   "cell_type": "code",
   "execution_count": 47,
   "metadata": {
    "collapsed": true
   },
   "outputs": [],
   "source": [
    "nothing = 'white'\n",
    "red = 'red'\n",
    "blue = 'blue'\n",
    "brown = 'brown'\n",
    "green = 'green'\n",
    "yellow = 'yellow'\n",
    "orange = 'orange'"
   ]
  },
  {
   "cell_type": "code",
   "execution_count": 5,
   "metadata": {
    "collapsed": true
   },
   "outputs": [],
   "source": [
    "from tqdm import tqdm_notebook\n",
    "import pandas as pd"
   ]
  },
  {
   "cell_type": "code",
   "execution_count": 188,
   "metadata": {
    "collapsed": true
   },
   "outputs": [],
   "source": [
    "dims_number = 4"
   ]
  },
  {
   "cell_type": "code",
   "execution_count": 6,
   "metadata": {
    "collapsed": true
   },
   "outputs": [],
   "source": [
    "def read_n_samples(expected_class, N, serial=ser):\n",
    "    res = []\n",
    "    serial.flushInput()\n",
    "    for _ in tqdm_notebook(range(N), desc='Reading %s...'%expected_class):\n",
    "        r, g, b, c, _ = map(int, ser.readline().split(' '))\n",
    "        res.append([expected_class, r, g, b, c])\n",
    "    \n",
    "    pd_res = pd.DataFrame(res, columns=['class', 'R', 'G', 'B', 'C'])\n",
    "    return pd_res"
   ]
  },
  {
   "cell_type": "code",
   "execution_count": 11,
   "metadata": {
    "collapsed": true
   },
   "outputs": [],
   "source": [
    "all_data = pd.DataFrame()"
   ]
  },
  {
   "cell_type": "code",
   "execution_count": null,
   "metadata": {},
   "outputs": [],
   "source": [
    "a = read_n_samples(brown, 5)"
   ]
  },
  {
   "cell_type": "code",
   "execution_count": 33,
   "metadata": {},
   "outputs": [
    {
     "data": {
      "application/vnd.jupyter.widget-view+json": {
       "model_id": "84878d55e66f43a084adb9649e00643e"
      }
     },
     "metadata": {},
     "output_type": "display_data"
    },
    {
     "name": "stdout",
     "output_type": "stream",
     "text": [
      "\n"
     ]
    }
   ],
   "source": [
    "a = read_n_samples(yellow, 5)"
   ]
  },
  {
   "cell_type": "code",
   "execution_count": 46,
   "metadata": {},
   "outputs": [
    {
     "data": {
      "application/vnd.jupyter.widget-view+json": {
       "model_id": "2de7e5d6e9814c3a8c973f869e03a1e1"
      }
     },
     "metadata": {},
     "output_type": "display_data"
    },
    {
     "name": "stdout",
     "output_type": "stream",
     "text": [
      "\n"
     ]
    }
   ],
   "source": [
    "a = read_n_samples(green, 5)"
   ]
  },
  {
   "cell_type": "code",
   "execution_count": 68,
   "metadata": {},
   "outputs": [
    {
     "data": {
      "application/vnd.jupyter.widget-view+json": {
       "model_id": "017b140830d1440a8406578dfe1c98bc"
      }
     },
     "metadata": {},
     "output_type": "display_data"
    },
    {
     "name": "stdout",
     "output_type": "stream",
     "text": [
      "\n"
     ]
    }
   ],
   "source": [
    "a = read_n_samples(orange, 5)"
   ]
  },
  {
   "cell_type": "code",
   "execution_count": null,
   "metadata": {},
   "outputs": [
    {
     "data": {
      "application/vnd.jupyter.widget-view+json": {
       "model_id": "809f4e37a44047469ad5185cd474c7e3"
      }
     },
     "metadata": {},
     "output_type": "display_data"
    }
   ],
   "source": [
    "a = read_n_samples(blue, 5)"
   ]
  },
  {
   "cell_type": "code",
   "execution_count": 84,
   "metadata": {},
   "outputs": [
    {
     "data": {
      "application/vnd.jupyter.widget-view+json": {
       "model_id": "b0fa2bf72ccf4978905075baa1929da0"
      }
     },
     "metadata": {},
     "output_type": "display_data"
    },
    {
     "name": "stdout",
     "output_type": "stream",
     "text": [
      "\n"
     ]
    }
   ],
   "source": [
    "a = read_n_samples(red, 5)"
   ]
  },
  {
   "cell_type": "code",
   "execution_count": 96,
   "metadata": {},
   "outputs": [
    {
     "data": {
      "application/vnd.jupyter.widget-view+json": {
       "model_id": "10706664c0504e46b4c484b355d02088"
      }
     },
     "metadata": {},
     "output_type": "display_data"
    },
    {
     "name": "stdout",
     "output_type": "stream",
     "text": [
      "\n"
     ]
    }
   ],
   "source": [
    "a = read_n_samples(nothing, 5)"
   ]
  },
  {
   "cell_type": "code",
   "execution_count": 97,
   "metadata": {},
   "outputs": [
    {
     "data": {
      "text/html": [
       "<div>\n",
       "<style>\n",
       "    .dataframe thead tr:only-child th {\n",
       "        text-align: right;\n",
       "    }\n",
       "\n",
       "    .dataframe thead th {\n",
       "        text-align: left;\n",
       "    }\n",
       "\n",
       "    .dataframe tbody tr th {\n",
       "        vertical-align: top;\n",
       "    }\n",
       "</style>\n",
       "<table border=\"1\" class=\"dataframe\">\n",
       "  <thead>\n",
       "    <tr style=\"text-align: right;\">\n",
       "      <th></th>\n",
       "      <th>class</th>\n",
       "      <th>R</th>\n",
       "      <th>G</th>\n",
       "      <th>B</th>\n",
       "      <th>C</th>\n",
       "    </tr>\n",
       "  </thead>\n",
       "  <tbody>\n",
       "    <tr>\n",
       "      <th>0</th>\n",
       "      <td>white</td>\n",
       "      <td>37900</td>\n",
       "      <td>30570</td>\n",
       "      <td>37100</td>\n",
       "      <td>107260</td>\n",
       "    </tr>\n",
       "    <tr>\n",
       "      <th>1</th>\n",
       "      <td>white</td>\n",
       "      <td>35430</td>\n",
       "      <td>28080</td>\n",
       "      <td>33960</td>\n",
       "      <td>96710</td>\n",
       "    </tr>\n",
       "    <tr>\n",
       "      <th>2</th>\n",
       "      <td>white</td>\n",
       "      <td>35430</td>\n",
       "      <td>28450</td>\n",
       "      <td>34470</td>\n",
       "      <td>99960</td>\n",
       "    </tr>\n",
       "    <tr>\n",
       "      <th>3</th>\n",
       "      <td>white</td>\n",
       "      <td>35210</td>\n",
       "      <td>28240</td>\n",
       "      <td>34260</td>\n",
       "      <td>99360</td>\n",
       "    </tr>\n",
       "    <tr>\n",
       "      <th>4</th>\n",
       "      <td>white</td>\n",
       "      <td>34540</td>\n",
       "      <td>27790</td>\n",
       "      <td>34770</td>\n",
       "      <td>101700</td>\n",
       "    </tr>\n",
       "  </tbody>\n",
       "</table>\n",
       "</div>"
      ],
      "text/plain": [
       "   class      R      G      B       C\n",
       "0  white  37900  30570  37100  107260\n",
       "1  white  35430  28080  33960   96710\n",
       "2  white  35430  28450  34470   99960\n",
       "3  white  35210  28240  34260   99360\n",
       "4  white  34540  27790  34770  101700"
      ]
     },
     "execution_count": 97,
     "metadata": {},
     "output_type": "execute_result"
    }
   ],
   "source": [
    "a"
   ]
  },
  {
   "cell_type": "code",
   "execution_count": 98,
   "metadata": {},
   "outputs": [
    {
     "name": "stdout",
     "output_type": "stream",
     "text": [
      "Total now: 125\n",
      "Available classes: {\n",
      "    \"blue\": 25, \n",
      "    \"yellow\": 20, \n",
      "    \"green\": 20, \n",
      "    \"orange\": 20, \n",
      "    \"white\": 20, \n",
      "    \"red\": 20\n",
      "}\n"
     ]
    }
   ],
   "source": [
    "all_data = all_data.append(a)\n",
    "print 'Total now: %d'%all_data.shape[0]\n",
    "print 'Available classes: %s'%(json.dumps(Counter(all_data['class']), indent=4))"
   ]
  },
  {
   "cell_type": "code",
   "execution_count": 200,
   "metadata": {
    "collapsed": true
   },
   "outputs": [],
   "source": [
    "all_data.to_csv('box_sensor.csv')"
   ]
  },
  {
   "cell_type": "code",
   "execution_count": 137,
   "metadata": {
    "collapsed": true
   },
   "outputs": [],
   "source": [
    "ser.close()"
   ]
  },
  {
   "cell_type": "markdown",
   "metadata": {},
   "source": [
    "# Step2: Lets observe data "
   ]
  },
  {
   "cell_type": "code",
   "execution_count": null,
   "metadata": {
    "collapsed": true
   },
   "outputs": [],
   "source": [
    "all_data = pd.read_csv('box_sensor.csv')"
   ]
  },
  {
   "cell_type": "code",
   "execution_count": 189,
   "metadata": {
    "collapsed": true
   },
   "outputs": [],
   "source": [
    "import seaborn as sns\n",
    "\n",
    "%matplotlib inline"
   ]
  },
  {
   "cell_type": "code",
   "execution_count": 190,
   "metadata": {
    "collapsed": true
   },
   "outputs": [],
   "source": [
    "from sklearn.decomposition import PCA"
   ]
  },
  {
   "cell_type": "code",
   "execution_count": 191,
   "metadata": {
    "collapsed": true
   },
   "outputs": [],
   "source": [
    "projector = PCA(2)"
   ]
  },
  {
   "cell_type": "code",
   "execution_count": 198,
   "metadata": {},
   "outputs": [],
   "source": [
    "xys = projector.fit_transform(all_data.iloc[:, -dims_number:])"
   ]
  },
  {
   "cell_type": "code",
   "execution_count": 199,
   "metadata": {},
   "outputs": [
    {
     "data": {
      "text/plain": [
       "<matplotlib.collections.PathCollection at 0x7f3e219b9a50>"
      ]
     },
     "execution_count": 199,
     "metadata": {},
     "output_type": "execute_result"
    },
    {
     "data": {
      "image/png": "[encoded data removed]",
      "text/plain": [
       "<matplotlib.figure.Figure at 0x7f3e0bde80d0>"
      ]
     },
     "metadata": {},
     "output_type": "display_data"
    }
   ],
   "source": [
    "sns.plt.scatter(xys[:, 0], xys[:, 1], c=all_data['class'])"
   ]
  },
  {
   "cell_type": "markdown",
   "metadata": {},
   "source": [
    "## Okay, it seems to be linear solvable"
   ]
  },
  {
   "cell_type": "markdown",
   "metadata": {},
   "source": [
    "# Step 3: building a classifier"
   ]
  },
  {
   "cell_type": "code",
   "execution_count": 106,
   "metadata": {
    "collapsed": true
   },
   "outputs": [],
   "source": [
    "from sklearn.svm import SVC\n",
    "from sklearn.multiclass import OneVsRestClassifier\n",
    "from sklearn.pipeline import Pipeline\n",
    "from sklearn.preprocessing import StandardScaler"
   ]
  },
  {
   "cell_type": "code",
   "execution_count": 124,
   "metadata": {
    "collapsed": true
   },
   "outputs": [],
   "source": [
    "cls = Pipeline([('scaler', StandardScaler()),\n",
    "                ('svm', OneVsRestClassifier(SVC(kernel='linear', probability=True)))])"
   ]
  },
  {
   "cell_type": "code",
   "execution_count": 125,
   "metadata": {},
   "outputs": [
    {
     "data": {
      "text/plain": [
       "Pipeline(steps=[('scaler', StandardScaler(copy=True, with_mean=True, with_std=True)), ('svm', OneVsRestClassifier(estimator=SVC(C=1.0, cache_size=200, class_weight=None, coef0=0.0,\n",
       "  decision_function_shape=None, degree=3, gamma='auto', kernel='linear',\n",
       "  max_iter=-1, probability=True, random_state=None, shrinking=True,\n",
       "  tol=0.001, verbose=False),\n",
       "          n_jobs=1))])"
      ]
     },
     "execution_count": 125,
     "metadata": {},
     "output_type": "execute_result"
    }
   ],
   "source": [
    "cls.fit(all_data.iloc[:, -4:], all_data['class'])"
   ]
  },
  {
   "cell_type": "markdown",
   "metadata": {},
   "source": [
    "## Lets observe params of classifier"
   ]
  },
  {
   "cell_type": "code",
   "execution_count": 126,
   "metadata": {
    "collapsed": true
   },
   "outputs": [],
   "source": [
    "scaler = cls.steps[0][1]\n",
    "classifier = cls.steps[1][1]"
   ]
  },
  {
   "cell_type": "code",
   "execution_count": 138,
   "metadata": {},
   "outputs": [
    {
     "data": {
      "text/plain": [
       "array([  48569.2 ,   38272.4 ,   45261.36,  133028.24])"
      ]
     },
     "execution_count": 138,
     "metadata": {},
     "output_type": "execute_result"
    }
   ],
   "source": [
    "scaler.mean_"
   ]
  },
  {
   "cell_type": "code",
   "execution_count": 140,
   "metadata": {},
   "outputs": [
    {
     "data": {
      "text/plain": [
       "array([ 10044.10327307,   5813.49153607,   7281.40957167,  16919.89305233])"
      ]
     },
     "execution_count": 140,
     "metadata": {},
     "output_type": "execute_result"
    }
   ],
   "source": [
    "scaler.scale_"
   ]
  },
  {
   "cell_type": "code",
   "execution_count": 127,
   "metadata": {},
   "outputs": [
    {
     "name": "stdout",
     "output_type": "stream",
     "text": [
      "blue [-1.02145308] [[-0.40474246 -0.18890822  0.99604166  0.1847302 ]]\n",
      "green [-1.87139226] [[-1.96081618  3.85329774 -0.99640643 -1.62411197]]\n",
      "orange [-2.44155463] [[ 2.43327866 -2.0819878   0.27706819  0.78752813]]\n",
      "red [-2.08618774] [[ 1.67598532 -3.40039139  2.28610403 -0.64856683]]\n",
      "white [-2.92653898] [[-1.98360981  0.03685838 -0.44829316 -1.13028324]]\n",
      "yellow [-2.3484152] [[ 0.18819443  2.01927025 -0.14062996  0.81261244]]\n"
     ]
    }
   ],
   "source": [
    "for name, est in zip(classifier.classes_, classifier.estimators_):\n",
    "    print name, est.intercept_, est.coef_"
   ]
  },
  {
   "cell_type": "markdown",
   "metadata": {},
   "source": [
    "## Okay. Seems reasonable"
   ]
  },
  {
   "cell_type": "markdown",
   "metadata": {},
   "source": [
    "## There we can to try classifier in realtime\n",
    "Moreover, we check if we can replay classifiers behaviour with simple math with given parameters."
   ]
  },
  {
   "cell_type": "code",
   "execution_count": 128,
   "metadata": {
    "collapsed": true
   },
   "outputs": [],
   "source": [
    "import numpy as np"
   ]
  },
  {
   "cell_type": "code",
   "execution_count": 129,
   "metadata": {
    "collapsed": true
   },
   "outputs": [
    {
     "name": "stdout",
     "output_type": "stream",
     "text": [
      "['blue' 'green' 'orange' 'red' 'white' 'yellow']\n"
     ]
    },
    {
     "data": {
      "application/vnd.jupyter.widget-view+json": {
       "model_id": "e61f21548b424b01a3df156ab5b027dc"
      }
     },
     "metadata": {},
     "output_type": "display_data"
    },
    {
     "name": "stdout",
     "output_type": "stream",
     "text": [
      "(array(['white'], \n",
      "      dtype='|S6'), array([[-1.56961   , -1.42200549, -3.63499001, -1.06636599,  0.76684373,\n",
      "        -5.73787204]]))\n",
      "('white', matrix([[ 0.76684373]]))\n",
      "(array(['white'], \n",
      "      dtype='|S6'), array([[-1.56926378, -1.42161002, -3.63288016, -1.06612154,  0.76167364,\n",
      "        -5.73373675]]))\n",
      "('white', matrix([[ 0.76167364]]))\n",
      "(array(['blue'], \n",
      "      dtype='|S6'), array([[ 1.00106487, -2.32721116, -3.72355562, -0.27302997, -2.66218164,\n",
      "        -2.12293581]]))\n",
      "('blue', matrix([[ 1.00106487]]))\n",
      "(array(['blue'], \n",
      "      dtype='|S6'), array([[ 1.32899941, -0.96754178, -4.76258424, -1.08190044, -2.53015053,\n",
      "        -1.40980156]]))\n",
      "('blue', matrix([[ 1.32899941]]))\n",
      "\n",
      "(array(['blue'], \n",
      "      dtype='|S6'), array([[ 1.32114099, -0.94484783, -4.776608  , -1.06707723, -2.49537746,\n",
      "        -1.44076878]]))\n",
      "('blue', matrix([[ 1.32114099]]))\n",
      "(array(['white'], \n",
      "      dtype='|S6'), array([[-1.55745953, -1.42606802, -3.60836942, -1.09468579,  0.67727225,\n",
      "        -5.6534037 ]]))\n",
      "('white', matrix([[ 0.67727225]]))\n",
      "(array(['orange'], \n",
      "      dtype='|S6'), array([[-1.61332993, -4.67567157,  0.67787502, -1.1833152 , -5.78759853,\n",
      "        -1.52643463]]))\n",
      "('orange', matrix([[ 0.67787502]]))\n",
      "(array(['orange'], \n",
      "      dtype='|S6'), array([[-1.61376406, -4.66808348,  0.67382827, -1.18878102, -5.7868671 ,\n",
      "        -1.52344148]]))\n",
      "('orange', matrix([[ 0.67382827]]))\n",
      "(array(['red'], \n",
      "      dtype='|S6'), array([[-2.06260358, -4.03629557, -0.51834607,  1.16951895, -1.69759739,\n",
      "        -5.59675297]]))\n",
      "('red', matrix([[ 1.16951895]]))\n",
      "(array(['white'], \n",
      "      dtype='|S6'), array([[-1.55960697, -1.42060596, -3.62741227, -1.08942409,  0.7195274 ,\n",
      "        -5.68734658]]))\n",
      "('white', matrix([[ 0.7195274]]))\n"
     ]
    },
    {
     "ename": "KeyboardInterrupt",
     "evalue": "",
     "output_type": "error",
     "traceback": [
      "\u001b[0;31m---------------------------------------------------------------------------\u001b[0m",
      "\u001b[0;31mKeyboardInterrupt\u001b[0m                         Traceback (most recent call last)",
      "\u001b[0;32m<ipython-input-129-425a929899f9>\u001b[0m in \u001b[0;36m<module>\u001b[0;34m()\u001b[0m\n\u001b[1;32m      3\u001b[0m \u001b[0;32mprint\u001b[0m \u001b[0mcls\u001b[0m\u001b[0;34m.\u001b[0m\u001b[0mclasses_\u001b[0m\u001b[0;34m\u001b[0m\u001b[0m\n\u001b[1;32m      4\u001b[0m \u001b[0;32mfor\u001b[0m \u001b[0m_\u001b[0m \u001b[0;32min\u001b[0m \u001b[0mtqdm_notebook\u001b[0m\u001b[0;34m(\u001b[0m\u001b[0mrange\u001b[0m\u001b[0;34m(\u001b[0m\u001b[0mN\u001b[0m\u001b[0;34m)\u001b[0m\u001b[0;34m)\u001b[0m\u001b[0;34m:\u001b[0m\u001b[0;34m\u001b[0m\u001b[0m\n\u001b[0;32m----> 5\u001b[0;31m     \u001b[0mr\u001b[0m\u001b[0;34m,\u001b[0m\u001b[0mg\u001b[0m\u001b[0;34m,\u001b[0m\u001b[0mb\u001b[0m\u001b[0;34m,\u001b[0m \u001b[0mc\u001b[0m\u001b[0;34m,\u001b[0m \u001b[0m_\u001b[0m \u001b[0;34m=\u001b[0m \u001b[0mmap\u001b[0m\u001b[0;34m(\u001b[0m\u001b[0mint\u001b[0m\u001b[0;34m,\u001b[0m \u001b[0mser\u001b[0m\u001b[0;34m.\u001b[0m\u001b[0mreadline\u001b[0m\u001b[0;34m(\u001b[0m\u001b[0;34m)\u001b[0m\u001b[0;34m.\u001b[0m\u001b[0msplit\u001b[0m\u001b[0;34m(\u001b[0m\u001b[0;34m' '\u001b[0m\u001b[0;34m)\u001b[0m\u001b[0;34m)\u001b[0m\u001b[0;34m\u001b[0m\u001b[0m\n\u001b[0m\u001b[1;32m      6\u001b[0m \u001b[0;34m\u001b[0m\u001b[0m\n\u001b[1;32m      7\u001b[0m     \u001b[0;32mprint\u001b[0m \u001b[0;34m(\u001b[0m\u001b[0mcls\u001b[0m\u001b[0;34m.\u001b[0m\u001b[0mpredict\u001b[0m\u001b[0;34m(\u001b[0m\u001b[0mnp\u001b[0m\u001b[0;34m.\u001b[0m\u001b[0mmatrix\u001b[0m\u001b[0;34m(\u001b[0m\u001b[0;34m[\u001b[0m\u001b[0;34m[\u001b[0m\u001b[0mr\u001b[0m\u001b[0;34m,\u001b[0m \u001b[0mg\u001b[0m\u001b[0;34m,\u001b[0m \u001b[0mb\u001b[0m\u001b[0;34m,\u001b[0m \u001b[0mc\u001b[0m\u001b[0;34m]\u001b[0m\u001b[0;34m]\u001b[0m\u001b[0;34m)\u001b[0m\u001b[0;34m)\u001b[0m\u001b[0;34m,\u001b[0m \u001b[0mcls\u001b[0m\u001b[0;34m.\u001b[0m\u001b[0mdecision_function\u001b[0m\u001b[0;34m(\u001b[0m\u001b[0mnp\u001b[0m\u001b[0;34m.\u001b[0m\u001b[0mmatrix\u001b[0m\u001b[0;34m(\u001b[0m\u001b[0;34m[\u001b[0m\u001b[0;34m[\u001b[0m\u001b[0mr\u001b[0m\u001b[0;34m,\u001b[0m \u001b[0mg\u001b[0m\u001b[0;34m,\u001b[0m \u001b[0mb\u001b[0m\u001b[0;34m,\u001b[0m \u001b[0mc\u001b[0m\u001b[0;34m]\u001b[0m\u001b[0;34m]\u001b[0m\u001b[0;34m)\u001b[0m\u001b[0;34m)\u001b[0m\u001b[0;34m)\u001b[0m\u001b[0;34m\u001b[0m\u001b[0m\n",
      "\u001b[0;32m/home/shtechgen/envs/rgb/local/lib/python2.7/site-packages/serial/serialposix.pyc\u001b[0m in \u001b[0;36mread\u001b[0;34m(self, size)\u001b[0m\n\u001b[1;32m    481\u001b[0m         \u001b[0;32mwhile\u001b[0m \u001b[0mlen\u001b[0m\u001b[0;34m(\u001b[0m\u001b[0mread\u001b[0m\u001b[0;34m)\u001b[0m \u001b[0;34m<\u001b[0m \u001b[0msize\u001b[0m\u001b[0;34m:\u001b[0m\u001b[0;34m\u001b[0m\u001b[0m\n\u001b[1;32m    482\u001b[0m             \u001b[0;32mtry\u001b[0m\u001b[0;34m:\u001b[0m\u001b[0;34m\u001b[0m\u001b[0m\n\u001b[0;32m--> 483\u001b[0;31m                 \u001b[0mready\u001b[0m\u001b[0;34m,\u001b[0m \u001b[0m_\u001b[0m\u001b[0;34m,\u001b[0m \u001b[0m_\u001b[0m \u001b[0;34m=\u001b[0m \u001b[0mselect\u001b[0m\u001b[0;34m.\u001b[0m\u001b[0mselect\u001b[0m\u001b[0;34m(\u001b[0m\u001b[0;34m[\u001b[0m\u001b[0mself\u001b[0m\u001b[0;34m.\u001b[0m\u001b[0mfd\u001b[0m\u001b[0;34m,\u001b[0m \u001b[0mself\u001b[0m\u001b[0;34m.\u001b[0m\u001b[0mpipe_abort_read_r\u001b[0m\u001b[0;34m]\u001b[0m\u001b[0;34m,\u001b[0m \u001b[0;34m[\u001b[0m\u001b[0;34m]\u001b[0m\u001b[0;34m,\u001b[0m \u001b[0;34m[\u001b[0m\u001b[0;34m]\u001b[0m\u001b[0;34m,\u001b[0m \u001b[0mtimeout\u001b[0m\u001b[0;34m.\u001b[0m\u001b[0mtime_left\u001b[0m\u001b[0;34m(\u001b[0m\u001b[0;34m)\u001b[0m\u001b[0;34m)\u001b[0m\u001b[0;34m\u001b[0m\u001b[0m\n\u001b[0m\u001b[1;32m    484\u001b[0m                 \u001b[0;32mif\u001b[0m \u001b[0mself\u001b[0m\u001b[0;34m.\u001b[0m\u001b[0mpipe_abort_read_r\u001b[0m \u001b[0;32min\u001b[0m \u001b[0mready\u001b[0m\u001b[0;34m:\u001b[0m\u001b[0;34m\u001b[0m\u001b[0m\n\u001b[1;32m    485\u001b[0m                     \u001b[0mos\u001b[0m\u001b[0;34m.\u001b[0m\u001b[0mread\u001b[0m\u001b[0;34m(\u001b[0m\u001b[0mself\u001b[0m\u001b[0;34m.\u001b[0m\u001b[0mpipe_abort_read_r\u001b[0m\u001b[0;34m,\u001b[0m \u001b[0;36m1000\u001b[0m\u001b[0;34m)\u001b[0m\u001b[0;34m\u001b[0m\u001b[0m\n",
      "\u001b[0;31mKeyboardInterrupt\u001b[0m: "
     ]
    }
   ],
   "source": [
    "N=100\n",
    "ser.flushInput()\n",
    "print cls.classes_\n",
    "for _ in tqdm_notebook(range(N)):\n",
    "    r,g,b, c, _ = map(int, ser.readline().split(' '))\n",
    "\n",
    "    print (cls.predict(np.matrix([[r, g, b, c]])), cls.decision_function(np.matrix([[r, g, b, c]])))\n",
    "    \n",
    "    rgb = ((np.matrix([[r,g,b, c]])) - scaler.mean_) / scaler.scale_\n",
    "    my_decision_func = max([(name, est.intercept_ + np.dot(rgb, est.coef_.T)) \n",
    "           for name, est in zip(classifier.classes_, classifier.estimators_)], key=lambda (x,y): y)\n",
    "    print my_decision_func\n"
   ]
  },
  {
   "cell_type": "markdown",
   "metadata": {},
   "source": [
    "# Step 4: Things are gonna become strange\n",
    "We want to use classifier on 8bit Arduino-microcontroller"
   ]
  },
  {
   "cell_type": "markdown",
   "metadata": {},
   "source": [
    "### Okay, lets generate the code to apply our model"
   ]
  },
  {
   "cell_type": "markdown",
   "metadata": {},
   "source": [
    "#### One SVM unit computation"
   ]
  },
  {
   "cell_type": "code",
   "execution_count": 174,
   "metadata": {},
   "outputs": [],
   "source": [
    "def generate_decision_function(classname, class_id, svm, scaler, variables = ['r', 'g', 'b']):\n",
    "    \n",
    "    input_args = ', '.join(['float %s'%var for var in variables])\n",
    "    \n",
    "    scaled_vars = (['((float)%s - %s)/%s'%(var, m, s) \n",
    "                    for var, m, s in zip(variables, scaler.mean_, scaler.scale_)])\n",
    "    \n",
    "    multiplied_vars = ' \\n\\t\\t+ '.join(['(%s)*(%s)'%(scaled, v) for scaled, v in zip(scaled_vars, svm.coef_[0])])\n",
    "    \n",
    "    body = '''float check_if_it_is_{classname}_object({income_vars})\n",
    "    {{\n",
    "        return {w} + {multiplied_vars};\n",
    "    }}'''\n",
    "    \n",
    "    return body.format(classname=classname, income_vars=input_args, multiplied_vars=multiplied_vars, w=svm.intercept_[0])"
   ]
  },
  {
   "cell_type": "markdown",
   "metadata": {},
   "source": [
    "#### Thing which choose the best class by application all of SVMs"
   ]
  },
  {
   "cell_type": "code",
   "execution_count": 182,
   "metadata": {
    "collapsed": true
   },
   "outputs": [],
   "source": [
    "def generate_maximizer(classnames, variables):\n",
    "    \n",
    "    input_args = ', '.join(['float %s'%var for var in variables])\n",
    "    passing_args = ', '.join(variables)\n",
    "    \n",
    "    if_template = '''        value = check_if_it_is_{classname}_object({passing_args});\n",
    "        if (value > max_value)\n",
    "        {{\n",
    "            max_id = {current_id};\n",
    "            max_value = value;\n",
    "        }}\n",
    "    '''\n",
    "    \n",
    "    ifs = '\\n'.join(\n",
    "        [if_template.format(classname=name, passing_args=passing_args, current_id=i) \n",
    "             for i, name in enumerate(classnames)])\n",
    "    \n",
    "    \n",
    "    body = '''int make_a_decision({input_args})\n",
    "    {{\n",
    "        int max_id = 0;\n",
    "        float max_value = -10000;\n",
    "        float value;\n",
    "{ifs}\n",
    "        return max_id;\n",
    "    }}\n",
    "    '''\n",
    "    \n",
    "    return body.format(input_args=input_args, ifs=ifs)"
   ]
  },
  {
   "cell_type": "markdown",
   "metadata": {},
   "source": [
    "#### Some usability stuff"
   ]
  },
  {
   "cell_type": "code",
   "execution_count": 183,
   "metadata": {
    "collapsed": true
   },
   "outputs": [],
   "source": [
    "def generate_defines(classnames):\n",
    "    return '\\n'.join(['#define\\t%15s\\t%2d'%(n, i) for (i, n) in enumerate(classnames)])"
   ]
  },
  {
   "cell_type": "code",
   "execution_count": 184,
   "metadata": {
    "collapsed": true
   },
   "outputs": [],
   "source": [
    "def generate_all_decisions(classnames, svms, scaler, variables = ['r', 'g', 'b']):\n",
    "    res = []\n",
    "    for i, (est, classname) in enumerate(zip(svms, classnames)):\n",
    "        res.append(generate_decision_function(classname, i, est, scaler, variables=variables))\n",
    "    return '\\n\\n'.join(res)"
   ]
  },
  {
   "cell_type": "code",
   "execution_count": 185,
   "metadata": {
    "collapsed": true
   },
   "outputs": [],
   "source": [
    "def generate_all(pipeline, variables='rgb'):\n",
    "    scaler = pipeline.steps[0][1]\n",
    "    classifier = pipeline.steps[1][1]\n",
    "    \n",
    "    return '\\n\\n'.join([  generate_defines(list(pipeline.classes_)),\n",
    "                        generate_all_decisions(pipeline.classes_, classifier.estimators_, scaler, variables),\n",
    "                        generate_maximizer(pipeline.classes_, variables)])\n",
    "    "
   ]
  },
  {
   "cell_type": "code",
   "execution_count": 186,
   "metadata": {},
   "outputs": [],
   "source": [
    "with open('classifier.h', 'w') as outcome:\n",
    "    outcome.write(generate_all(cls, 'rgbc'))"
   ]
  },
  {
   "cell_type": "markdown",
   "metadata": {},
   "source": [
    "#### To check if our generated code even compiles"
   ]
  },
  {
   "cell_type": "code",
   "execution_count": 187,
   "metadata": {},
   "outputs": [],
   "source": [
    "!gcc classifier.h"
   ]
  }
 ],
 "metadata": {
  "kernelspec": {
   "display_name": "Python 2",
   "language": "python",
   "name": "python2"
  },
  "language_info": {
   "codemirror_mode": {
    "name": "ipython",
    "version": 2
   },
   "file_extension": ".py",
   "mimetype": "text/x-python",
   "name": "python",
   "nbconvert_exporter": "python",
   "pygments_lexer": "ipython2",
   "version": "2.7.12"
  }
 },
 "nbformat": 4,
 "nbformat_minor": 2
}
